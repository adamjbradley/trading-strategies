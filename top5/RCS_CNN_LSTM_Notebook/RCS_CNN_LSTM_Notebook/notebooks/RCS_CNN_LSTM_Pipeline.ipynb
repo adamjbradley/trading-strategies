{
 "cells": [
  {
   "cell_type": "markdown",
   "metadata": {},
   "source": [
    "# RCS CNN+LSTM Pipeline (MetaTrader 5, Modular, Broker-Aware)\n",
    "\n",
    "This notebook demonstrates a robust, modular pipeline for FX prediction using MetaTrader 5 data, advanced feature engineering, deep learning, and feature set analysis."
   ]
  },
  {
   "cell_type": "code",
   "execution_count": 1,
   "metadata": {},
   "outputs": [
    {
     "name": "stdout",
     "output_type": "stream",
     "text": [
      "\u2705 Loaded cached data from data/metatrader_EURUSD.parquet\n",
      "\u2705 Loaded cached data from data/metatrader_GBPUSD.parquet\n",
      "\u2705 Loaded cached data from data/metatrader_USDJPY.parquet\n",
      "\u2705 Loaded cached data from data/metatrader_AUDUSD.parquet\n",
      "\u2705 Loaded cached data from data/metatrader_USDCAD.parquet\n",
      "\u2705 Loaded cached data from data/metatrader_EURJPY.parquet\n",
      "\u2705 Loaded cached data from data/metatrader_GBPJPY.parquet\n",
      "                      EURUSD                                        USDJPY  \\\n",
      "                        open     high      low    close tick_volume   open   \n",
      "time                                                                         \n",
      "2023-06-09 04:00:00  1.07820  1.07851  1.07796  1.07806      1782.0    NaN   \n",
      "2023-06-09 05:00:00  1.07806  1.07811  1.07757  1.07768      1398.0    NaN   \n",
      "2023-06-09 06:00:00  1.07768  1.07802  1.07766  1.07778      1104.0    NaN   \n",
      "2023-06-09 07:00:00  1.07778  1.07786  1.07747  1.07754       834.0    NaN   \n",
      "2023-06-09 08:00:00  1.07755  1.07841  1.07754  1.07780      1056.0    NaN   \n",
      "\n",
      "                                               USDCAD                 \\\n",
      "                    high low close tick_volume   open high low close   \n",
      "time                                                                   \n",
      "2023-06-09 04:00:00  NaN NaN   NaN         NaN    NaN  NaN NaN   NaN   \n",
      "2023-06-09 05:00:00  NaN NaN   NaN         NaN    NaN  NaN NaN   NaN   \n",
      "2023-06-09 06:00:00  NaN NaN   NaN         NaN    NaN  NaN NaN   NaN   \n",
      "2023-06-09 07:00:00  NaN NaN   NaN         NaN    NaN  NaN NaN   NaN   \n",
      "2023-06-09 08:00:00  NaN NaN   NaN         NaN    NaN  NaN NaN   NaN   \n",
      "\n",
      "                                 \n",
      "                    tick_volume  \n",
      "time                             \n",
      "2023-06-09 04:00:00         NaN  \n",
      "2023-06-09 05:00:00         NaN  \n",
      "2023-06-09 06:00:00         NaN  \n",
      "2023-06-09 07:00:00         NaN  \n",
      "2023-06-09 08:00:00         NaN  \n"
     ]
    }
   ],
   "source": [
    "# --- Data Loading ---\n",
    "from src.data.loader import load_or_fetch, load_metatrader_data\n",
    "import pandas as pd\n",
    "\n",
    "symbols = [\"EURUSD\", \"GBPUSD\", \"USDJPY\", \"AUDUSD\", \"USDCAD\", \"EURJPY\", \"GBPJPY\"]\n",
    "provider = \"metatrader\"\n",
    "broker = \"amp_global\"\n",
    "interval = \"H1\"\n",
    "\n",
    "data = {}\n",
    "for sym in symbols:\n",
    "    df = load_or_fetch(\n",
    "        symbol=sym,\n",
    "        provider=provider,\n",
    "        loader_func=load_metatrader_data,\n",
    "        api_key=\"\",\n",
    "        interval=interval,\n",
    "        broker=broker,\n",
    "        force_refresh=False,\n",
    "    )\n",
    "    if \"time\" in df.columns and \"close\" in df.columns:\n",
    "        df = df[[\"time\", \"open\", \"high\", \"low\", \"close\", \"tick_volume\"]].dropna()\n",
    "        df[\"time\"] = pd.to_datetime(df[\"time\"])\n",
    "        df = df.set_index(\"time\")\n",
    "        for col in [\"open\", \"high\", \"low\", \"close\", \"tick_volume\"]:\n",
    "            data[(sym, col)] = df[col]\n",
    "prices = pd.DataFrame(data)\n",
    "print(prices.head())"
   ]
  },
  {
   "cell_type": "code",
   "execution_count": 2,
   "metadata": {},
   "outputs": [
    {
     "name": "stdout",
     "output_type": "stream",
     "text": [
      "                           rsi      macd  momentum         cci       atr  \\\n",
      "time                                                                       \n",
      "2023-06-12 05:00:00  31.771996 -0.000881 -0.170125 -118.625425  0.000887   \n",
      "2023-06-12 06:00:00  34.909370 -0.000867 -0.067918  -95.231219  0.000860   \n",
      "2023-06-12 07:00:00  35.043400 -0.000846 -0.067918  -77.367399  0.000837   \n",
      "2023-06-12 08:00:00  45.037563 -0.000754  0.005582  -33.933946  0.000848   \n",
      "2023-06-12 09:00:00  45.037563 -0.000673 -0.004651   -6.730373  0.000846   \n",
      "\n",
      "                           adx    stoch_k    stoch_d       roc       bbw  ...  \\\n",
      "time                                                                      ...   \n",
      "2023-06-12 05:00:00   0.000000  13.002364   6.680063 -0.170125  0.414339  ...   \n",
      "2023-06-12 06:00:00   0.000000  19.554455  11.337374 -0.067918  0.381928  ...   \n",
      "2023-06-12 07:00:00  26.635786  29.850746  20.802522 -0.067918  0.379116  ...   \n",
      "2023-06-12 08:00:00  25.216249  83.076923  44.160708  0.005582  0.374051  ...   \n",
      "2023-06-12 09:00:00  23.464678  77.884615  63.604095 -0.004651  0.362764  ...   \n",
      "\n",
      "                     rolling_std_5  momentum_slope  dxy  ^vix  ^gspc  gc=f  \\\n",
      "time                                                                         \n",
      "2023-06-12 05:00:00       0.000537         0.00017  0.0   0.0    0.0   0.0   \n",
      "2023-06-12 06:00:00       0.000532         0.00024  0.0   0.0    0.0   0.0   \n",
      "2023-06-12 07:00:00       0.000321         0.00001  0.0   0.0    0.0   0.0   \n",
      "2023-06-12 08:00:00       0.000476         0.00082  0.0   0.0    0.0   0.0   \n",
      "2023-06-12 09:00:00       0.000507         0.00000  0.0   0.0    0.0   0.0   \n",
      "\n",
      "                     cl=f  gold_oil_ratio  day_of_week  month  \n",
      "time                                                           \n",
      "2023-06-12 05:00:00   0.0             0.0            0      6  \n",
      "2023-06-12 06:00:00   0.0             0.0            0      6  \n",
      "2023-06-12 07:00:00   0.0             0.0            0      6  \n",
      "2023-06-12 08:00:00   0.0             0.0            0      6  \n",
      "2023-06-12 09:00:00   0.0             0.0            0      6  \n",
      "\n",
      "[5 rows x 23 columns]\n"
     ]
    },
    {
     "name": "stderr",
     "output_type": "stream",
     "text": [
      "c:\\Users\\user\\Projects\\Finance\\Strategies\\trading-strategies\\top5\\RCS_CNN_LSTM_Notebook\\RCS_CNN_LSTM_Notebook\\feature_engineering.py:51: FutureWarning: The default fill_method='pad' in Series.pct_change is deprecated and will be removed in a future version. Either fill in any non-leading NA values prior to calling pct_change or specify 'fill_method=None' to not fill NA values.\n",
      "  data['return_1d'] = ohlc[(symbol, \"close\")].pct_change(1)\n",
      "c:\\Users\\user\\Projects\\Finance\\Strategies\\trading-strategies\\top5\\RCS_CNN_LSTM_Notebook\\RCS_CNN_LSTM_Notebook\\feature_engineering.py:52: FutureWarning: The default fill_method='pad' in Series.pct_change is deprecated and will be removed in a future version. Either fill in any non-leading NA values prior to calling pct_change or specify 'fill_method=None' to not fill NA values.\n",
      "  data['return_3d'] = ohlc[(symbol, \"close\")].pct_change(3)\n"
     ]
    }
   ],
   "source": [
    "# --- Feature Engineering ---\n",
    "from src.features.engineering import engineer_features\n",
    "symbol = \"EURUSD\"\n",
    "features = engineer_features(prices, symbol)\n",
    "print(features.head())"
   ]
  },
  {
   "cell_type": "code",
   "execution_count": 3,
   "metadata": {},
   "outputs": [
    {
     "name": "stdout",
     "output_type": "stream",
     "text": [
      "features shape: (9677, 23)\n",
      "target shape: (9677,)\n"
     ]
    }
   ],
   "source": [
    "# --- Target Creation ---\n",
    "target = (prices[(symbol, \"close\")].shift(-1) > prices[(symbol, \"close\")]).astype(int)\n",
    "common_index = features.index.intersection(target.index)\n",
    "features = features.loc[common_index]\n",
    "target = target.loc[common_index]\n",
    "print(\"features shape:\", features.shape)\n",
    "print(\"target shape:\", target.shape)"
   ]
  },
  {
   "cell_type": "code",
   "execution_count": 4,
   "metadata": {},
   "outputs": [
    {
     "name": "stdout",
     "output_type": "stream",
     "text": [
      "Epoch 1/10\n",
      "242/242 - 6s - 26ms/step - accuracy: 0.4863 - loss: 0.7025 - val_accuracy: 0.4912 - val_loss: 0.6964\n",
      "Epoch 2/10\n",
      "242/242 - 2s - 9ms/step - accuracy: 0.5024 - loss: 0.6954 - val_accuracy: 0.5067 - val_loss: 0.6942\n",
      "Epoch 3/10\n",
      "242/242 - 2s - 9ms/step - accuracy: 0.5081 - loss: 0.6955 - val_accuracy: 0.4953 - val_loss: 0.6950\n",
      "Epoch 4/10\n",
      "242/242 - 2s - 9ms/step - accuracy: 0.5216 - loss: 0.6923 - val_accuracy: 0.5062 - val_loss: 0.6951\n",
      "Epoch 5/10\n",
      "242/242 - 2s - 9ms/step - accuracy: 0.5302 - loss: 0.6902 - val_accuracy: 0.5036 - val_loss: 0.6946\n",
      "Epoch 6/10\n",
      "242/242 - 3s - 10ms/step - accuracy: 0.5263 - loss: 0.6919 - val_accuracy: 0.4943 - val_loss: 0.6989\n",
      "Epoch 7/10\n",
      "242/242 - 2s - 9ms/step - accuracy: 0.5351 - loss: 0.6887 - val_accuracy: 0.5016 - val_loss: 0.6955\n",
      "Epoch 8/10\n",
      "242/242 - 2s - 10ms/step - accuracy: 0.5403 - loss: 0.6879 - val_accuracy: 0.4953 - val_loss: 0.7000\n",
      "Epoch 9/10\n",
      "242/242 - 2s - 10ms/step - accuracy: 0.5512 - loss: 0.6841 - val_accuracy: 0.4974 - val_loss: 0.7017\n",
      "Epoch 10/10\n",
      "242/242 - 2s - 9ms/step - accuracy: 0.5626 - loss: 0.6833 - val_accuracy: 0.4922 - val_loss: 0.7013\n",
      "\u001b[1m61/61\u001b[0m \u001b[32m\u2501\u2501\u2501\u2501\u2501\u2501\u2501\u2501\u2501\u2501\u2501\u2501\u2501\u2501\u2501\u2501\u2501\u2501\u2501\u2501\u001b[0m\u001b[37m\u001b[0m \u001b[1m1s\u001b[0m 7ms/step\n",
      "Test accuracy: 0.4922360248447205\n",
      "{'0': {'precision': 0.5051194539249146, 'recall': 0.4484848484848485, 'f1-score': 0.4751203852327448, 'support': 990.0}, '1': {'precision': 0.48148148148148145, 'recall': 0.5382165605095541, 'f1-score': 0.5082706766917293, 'support': 942.0}, 'accuracy': 0.4922360248447205, 'macro avg': {'precision': 0.493300467703198, 'recall': 0.4933507044972013, 'f1-score': 0.49169553096223706, 'support': 1932.0}, 'weighted avg': {'precision': 0.4935941071124333, 'recall': 0.4922360248447205, 'f1-score': 0.4912837260993925, 'support': 1932.0}}\n"
     ]
    }
   ],
   "source": [
    "# --- Rolling Window, Train/Test Split, Model Training ---\n",
    "from src.models.utils import create_rolling_windows, train_test_split_rolling, train_cnn_lstm_model, evaluate_cnn_lstm_model\n",
    "from sklearn.preprocessing import StandardScaler\n",
    "\n",
    "feature_names = features.columns.tolist()\n",
    "features_scaled = StandardScaler().fit_transform(features)\n",
    "lookback = 20\n",
    "X = create_rolling_windows(features_scaled, lookback)\n",
    "y = target.values[lookback:]\n",
    "X_train, X_test, y_train, y_test = train_test_split_rolling(X, y, test_size=0.2)\n",
    "model, history = train_cnn_lstm_model(X_train, y_train, X_test, y_test, X_train.shape[1:], epochs=10, batch_size=32)\n",
    "acc, report = evaluate_cnn_lstm_model(model, X_test, y_test)\n",
    "print(\"Test accuracy:\", acc)\n",
    "print(report)"
   ]
  },
  {
   "cell_type": "code",
   "execution_count": 5,
   "metadata": {},
   "outputs": [
    {
     "name": "stdout",
     "output_type": "stream",
     "text": [
      "Evaluating feature set: Indicators only with features: ['rsi', 'macd', 'momentum', 'cci']\n",
      "Evaluating feature set: All features with features: ['rsi', 'macd', 'momentum', 'cci', 'atr', 'adx', 'stoch_k', 'stoch_d', 'roc', 'bbw', 'return_1d', 'return_3d', 'rolling_mean_5', 'rolling_std_5', 'momentum_slope', 'dxy', '^vix', '^gspc', 'gc=f', 'cl=f', 'gold_oil_ratio', 'day_of_week', 'month']\n",
      "\ud83d\udcc1 Saved results to feature_set_results_EURUSD.csv\n",
      "\ud83c\udfc6 Best set saved to best_feature_set_EURUSD.csv\n",
      "       Feature Set  Accuracy  \\\n",
      "0  Indicators only  0.505694   \n",
      "1     All features  0.480331   \n",
      "\n",
      "                                            Features  \n",
      "0                         [rsi, macd, momentum, cci]  \n",
      "1  [rsi, macd, momentum, cci, atr, adx, stoch_k, ...  \n",
      "Epoch 1/10\n",
      "242/242 - 6s - 25ms/step - accuracy: 0.4902 - loss: 0.7041 - val_accuracy: 0.5124 - val_loss: 0.6935\n",
      "Epoch 2/10\n",
      "242/242 - 2s - 9ms/step - accuracy: 0.4977 - loss: 0.6972 - val_accuracy: 0.5114 - val_loss: 0.6938\n",
      "Epoch 3/10\n",
      "242/242 - 2s - 9ms/step - accuracy: 0.5014 - loss: 0.6955 - val_accuracy: 0.5036 - val_loss: 0.6944\n",
      "Epoch 4/10\n",
      "242/242 - 2s - 10ms/step - accuracy: 0.5100 - loss: 0.6943 - val_accuracy: 0.5166 - val_loss: 0.6931\n",
      "Epoch 5/10\n",
      "242/242 - 2s - 9ms/step - accuracy: 0.5091 - loss: 0.6937 - val_accuracy: 0.4990 - val_loss: 0.6947\n",
      "Epoch 6/10\n",
      "242/242 - 2s - 9ms/step - accuracy: 0.5081 - loss: 0.6932 - val_accuracy: 0.4912 - val_loss: 0.6945\n",
      "Epoch 7/10\n",
      "242/242 - 2s - 9ms/step - accuracy: 0.5178 - loss: 0.6921 - val_accuracy: 0.5093 - val_loss: 0.6941\n",
      "Epoch 8/10\n",
      "242/242 - 2s - 9ms/step - accuracy: 0.5113 - loss: 0.6931 - val_accuracy: 0.5109 - val_loss: 0.6932\n",
      "Epoch 9/10\n",
      "242/242 - 2s - 8ms/step - accuracy: 0.5203 - loss: 0.6914 - val_accuracy: 0.5124 - val_loss: 0.6935\n",
      "Epoch 10/10\n",
      "242/242 - 3s - 11ms/step - accuracy: 0.5245 - loss: 0.6907 - val_accuracy: 0.5140 - val_loss: 0.6934\n",
      "\u001b[1m61/61\u001b[0m \u001b[32m\u2501\u2501\u2501\u2501\u2501\u2501\u2501\u2501\u2501\u2501\u2501\u2501\u2501\u2501\u2501\u2501\u2501\u2501\u2501\u2501\u001b[0m\u001b[37m\u001b[0m \u001b[1m1s\u001b[0m 8ms/step\n",
      "\u001b[1m61/61\u001b[0m \u001b[32m\u2501\u2501\u2501\u2501\u2501\u2501\u2501\u2501\u2501\u2501\u2501\u2501\u2501\u2501\u2501\u2501\u2501\u2501\u2501\u2501\u001b[0m\u001b[37m\u001b[0m \u001b[1m0s\u001b[0m 4ms/step\n",
      "\u001b[1m61/61\u001b[0m \u001b[32m\u2501\u2501\u2501\u2501\u2501\u2501\u2501\u2501\u2501\u2501\u2501\u2501\u2501\u2501\u2501\u2501\u2501\u2501\u2501\u2501\u001b[0m\u001b[37m\u001b[0m \u001b[1m0s\u001b[0m 4ms/step\n",
      "\u001b[1m61/61\u001b[0m \u001b[32m\u2501\u2501\u2501\u2501\u2501\u2501\u2501\u2501\u2501\u2501\u2501\u2501\u2501\u2501\u2501\u2501\u2501\u2501\u2501\u2501\u001b[0m\u001b[37m\u001b[0m \u001b[1m0s\u001b[0m 4ms/step\n",
      "\u001b[1m61/61\u001b[0m \u001b[32m\u2501\u2501\u2501\u2501\u2501\u2501\u2501\u2501\u2501\u2501\u2501\u2501\u2501\u2501\u2501\u2501\u2501\u2501\u2501\u2501\u001b[0m\u001b[37m\u001b[0m \u001b[1m0s\u001b[0m 5ms/step\n"
     ]
    },
    {
     "data": {
      "image/png": "[encoded data removed]",
      "text/plain": [
       "<Figure size 1000x500 with 1 Axes>"
      ]
     },
     "metadata": {},
     "output_type": "display_data"
    }
   ],
   "source": [
    "# --- Feature Set Comparison and Permutation Importance ---\n",
    "from src.features.analysis import compute_permutation_importance, compare_feature_sets, evaluate_and_save_feature_sets\n",
    "\n",
    "manual_feature_sets = {\n",
    "    \"Indicators only\": ['rsi', 'macd', 'momentum', 'cci'],\n",
    "    \"All features\": feature_names\n",
    "}\n",
    "results_df, best_row = evaluate_and_save_feature_sets(features, y, manual_feature_sets, symbol, lookback_window=lookback, model_fn=None, epochs=10, batch_size=32)\n",
    "print(results_df)\n",
    "\n",
    "# Permutation importance for best feature set\n",
    "best_features = best_row[\"Features\"]\n",
    "X_best = features[best_features].dropna().values\n",
    "features_scaled_best = StandardScaler().fit_transform(X_best)\n",
    "X_seq_best = create_rolling_windows(features_scaled_best, lookback)\n",
    "y_seq_best = y[-len(X_seq_best):]\n",
    "split = int(len(X_seq_best) * 0.8)\n",
    "X_train_best, X_test_best = X_seq_best[:split], X_seq_best[split:]\n",
    "y_train_best, y_test_best = y_seq_best[:split], y_seq_best[split:]\n",
    "model_best, _ = train_cnn_lstm_model(X_train_best, y_train_best, X_test_best, y_test_best, X_train_best.shape[1:], epochs=10, batch_size=32)\n",
    "importances = compute_permutation_importance(model_best, X_test_best, y_test_best, best_features)\n",
    "importance_df = pd.DataFrame(importances, columns=[\"Feature\", \"Importance\"])\n",
    "import matplotlib.pyplot as plt\n",
    "import seaborn as sns\n",
    "plt.figure(figsize=(10,5))\n",
    "sns.barplot(data=importance_df, x=\"Importance\", y=\"Feature\")\n",
    "plt.title(f\"Feature Importance via Permutation: {symbol}\")\n",
    "plt.grid(True)\n",
    "plt.show()"
   ]
  }
 ],
 "metadata": {
  "kernelspec": {
   "display_name": "Python 3",
   "language": "python",
   "name": "python3"
  },
  "language_info": {
   "codemirror_mode": {
    "name": "ipython",
    "version": 3
   },
   "file_extension": ".py",
   "mimetype": "text/x-python",
   "name": "python",
   "nbconvert_exporter": "python",
   "pygments_lexer": "ipython3",
   "version": "3.10.14"
  }
 },
 "nbformat": 4,
 "nbformat_minor": 2
}