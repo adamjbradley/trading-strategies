
{
 "cells": [
  {
   "cell_type": "markdown",
   "metadata": {},
   "source": [
    "# 📈 Grid Trading Strategy — Google Colab Notebook"
   ]
  },
  {
   "cell_type": "code",
   "execution_count": null,
   "metadata": {},
   "outputs": [],
   "source": [
    "!pip install pandas numpy matplotlib scikit-learn onnxruntime"
   ]
  },
  {
   "cell_type": "code",
   "execution_count": null,
   "metadata": {},
   "outputs": [],
   "source": [
    "from google.colab import files\n",
    "uploaded = files.upload()"
   ]
  },
  {
   "cell_type": "code",
   "execution_count": null,
   "metadata": {},
   "outputs": [],
   "source": [
    "import pandas as pd\n",
    "from strategy import run_grid_strategy\n",
    "from utils import plot_equity\n",
    "from metrics import compute_metrics"
   ]
  },
  {
   "cell_type": "code",
   "execution_count": null,
   "metadata": {},
   "outputs": [],
   "source": [
    "# Load uploaded file\n",
    "df = pd.read_csv("EURUSD_H1.csv", parse_dates=['time'])\n",
    "df['ma'] = df['close'].rolling(20).mean()\n",
    "df['return'] = df['close'].pct_change()\n",
    "df['rolling_std'] = df['return'].rolling(10).std()\n",
    "df['vol_prediction'] = (df['high'] - df['low']) > df['rolling_std']\n",
    "df['vol_prediction'] = df['vol_prediction'].astype(int)\n",
    "df = df.dropna()"
   ]
  },
  {
   "cell_type": "code",
   "execution_count": null,
   "metadata": {},
   "outputs": [],
   "source": [
    "final_balance, equity_df, trades_df = run_grid_strategy(df, 'EURUSD')\n",
    "metrics = compute_metrics(trades_df, equity_df)\n",
    "plot_equity(equity_df, 'EURUSD')\n",
    "trades_df.head()"
   ]
  }
 ],
 "metadata": {
  "kernelspec": {
   "display_name": "Python 3",
   "language": "python",
   "name": "python3"
  },
  "language_info": {
   "name": "python"
  }
 },
 "nbformat": 4,
 "nbformat_minor": 5
}
